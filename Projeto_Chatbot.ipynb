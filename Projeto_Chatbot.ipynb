{
  "nbformat": 4,
  "nbformat_minor": 0,
  "metadata": {
    "colab": {
      "provenance": [],
      "authorship_tag": "ABX9TyPyZSAOG4RqjERzjspcbGas",
      "include_colab_link": true
    },
    "kernelspec": {
      "name": "python3",
      "display_name": "Python 3"
    },
    "language_info": {
      "name": "python"
    }
  },
  "cells": [
    {
      "cell_type": "markdown",
      "metadata": {
        "id": "view-in-github",
        "colab_type": "text"
      },
      "source": [
        "<a href=\"https://colab.research.google.com/github/GabrielButti/Projeto-Chatbot/blob/main/Projeto_Chatbot.ipynb\" target=\"_parent\"><img src=\"https://colab.research.google.com/assets/colab-badge.svg\" alt=\"Open In Colab\"/></a>"
      ]
    },
    {
      "cell_type": "code",
      "source": [
        "from google.colab import drive\n",
        "drive.mount('/content/drive')"
      ],
      "metadata": {
        "collapsed": true,
        "id": "Dld4oNpJGhCv"
      },
      "execution_count": null,
      "outputs": []
    },
    {
      "cell_type": "code",
      "execution_count": null,
      "metadata": {
        "collapsed": true,
        "id": "c15b7lGOdlpQ"
      },
      "outputs": [],
      "source": [
        "!pip install langchain==0.3.0\n",
        "!pip install langchain.groq==0.2.0\n",
        "!pip install langchain-community==0.3.0\n",
        "!pip install youtube-transcript-api==0.6.2\n",
        "!pip install pypdf==5.0.0\n",
        "!pip install pandas\n",
        "!pip install numpy==1.23.5"
      ]
    },
    {
      "cell_type": "code",
      "source": [
        "import os\n",
        "from langchain_groq import ChatGroq\n",
        "from langchain.prompts import ChatPromptTemplate\n",
        "\n",
        "api_key = ''\n",
        "os.environ['GROQ_API_KEY'] = api_key\n",
        "\n",
        "chat = ChatGroq(model='llama-3.3-70b-versatile')\n",
        "\n",
        "def respostas_bot_chat(mensagens):\n",
        "  mensagens_modelo = [('system', 'Você é um assistente virtual amigável e utilitário')]\n",
        "  mensagens_modelo += mensagens\n",
        "  template = ChatPromptTemplate.from_messages(mensagens_modelo)\n",
        "  chain = template | chat\n",
        "  return chain.invoke({}).content\n",
        "\n",
        "def respostas_bot(mensagens, documento):\n",
        "  mensagem_sistema = '''Você é um assistente virtual amigável e utilitário.\n",
        "  Você utiliza as seguintes informações para formular suas respostas: {informacoes}'''\n",
        "  mensagens_modelo = [('system', mensagem_sistema)]\n",
        "  mensagens_modelo += mensagens\n",
        "  template = ChatPromptTemplate.from_messages(mensagens_modelo)\n",
        "  chain = template | chat\n",
        "  return chain.invoke({'informacoes': documento}).content"
      ],
      "metadata": {
        "collapsed": true,
        "id": "opCuHaSzw1x3"
      },
      "execution_count": null,
      "outputs": []
    },
    {
      "cell_type": "code",
      "source": [
        "def iniciar_chat_simples():\n",
        "    mensagens = []\n",
        "    while True:\n",
        "        pergunta = input('Usuário: ')\n",
        "        if pergunta.lower() == \"x\":\n",
        "            break\n",
        "        mensagens.append(('user', pergunta))\n",
        "        resposta = respostas_bot_chat(mensagens)\n",
        "        mensagens.append(('assistant', resposta))\n",
        "        print(f'Bot: {resposta}')\n",
        "\n",
        "    print('Muito Obrigado por falar comigo!')\n",
        "\n",
        "def iniciar_chat_com_atribuicoes(documento):\n",
        "    mensagens = []\n",
        "    while True:\n",
        "        pergunta = input('Usuário: ')\n",
        "        if pergunta.lower() == \"x\":\n",
        "            break\n",
        "        mensagens.append(('user', pergunta))\n",
        "        resposta = respostas_bot(mensagens, documento)\n",
        "        mensagens.append(('assistant', resposta))\n",
        "        print(f'Bot: {resposta}')\n",
        "\n",
        "    print('Muito Obrigado por falar comigo!')\n"
      ],
      "metadata": {
        "id": "nGKXBf61EzY1"
      },
      "execution_count": null,
      "outputs": []
    },
    {
      "cell_type": "code",
      "source": [
        "from langchain_community.document_loaders import WebBaseLoader\n",
        "from langchain.document_loaders import YoutubeLoader\n",
        "from langchain_community.document_loaders import PyPDFLoader\n",
        "import pandas as pd\n",
        "from langchain.schema import Document\n",
        "\n",
        "def carrega_site():\n",
        "  url_site = input(\"Digite a URL do Site: \")\n",
        "  try:\n",
        "    loader = WebBaseLoader(url_site)\n",
        "    lista_documentos = loader.load()\n",
        "    documento = ''\n",
        "    documento = ''.join([doc.page_content for doc in lista_documentos])\n",
        "    return documento\n",
        "  except Exception as e:\n",
        "      print(f\"Ocorreu um erro ao carregar o Site: {e}\")\n",
        "      return None\n",
        "\n",
        "def carrega_pdf():\n",
        "  caminho_pdf = input(\"Digite o caminho para o Arquivo PDF: \")\n",
        "  try:\n",
        "    loader = PyPDFLoader(caminho_pdf)\n",
        "    lista_documentos = loader.load()\n",
        "    documento = ''\n",
        "    documento = ''.join([doc.page_content for doc in lista_documentos])\n",
        "    return documento\n",
        "  except Exception as e:\n",
        "      print(f\"Ocorreu um erro ao carregar o Arquivo PDF: {e}\")\n",
        "      return None\n",
        "\n",
        "def carrega_youtube():\n",
        "  url_youtube = input(\"Digite a URL do Vídeo do Youtube: \")\n",
        "  try:\n",
        "    loader = YoutubeLoader.from_youtube_url(url_youtube, language=['pt'])\n",
        "    lista_documentos = loader.load()\n",
        "    documento = ''\n",
        "    documento = ''.join([doc.page_content for doc in lista_documentos])\n",
        "    return documento\n",
        "  except Exception as e:\n",
        "      print(f\"Ocorreu um erro ao carregar o Vídeo no Youtube: {e}\")\n",
        "      return None\n",
        "\n",
        "def carrega_planilha():\n",
        "  caminho_arquivo = input(\"Digite o caminho da Planilha Excel: \")\n",
        "  try:\n",
        "    df = pd.read_excel(caminho_arquivo)\n",
        "    lista_documentos = [Document(page_content=str(linha)) for linha in df.to_dict(orient=\"records\")]\n",
        "    documento = ''\n",
        "    documento = ''.join([doc.page_content for doc in lista_documentos])\n",
        "    return documento\n",
        "  except Exception as e:\n",
        "      print(f\"Ocorreu um erro ao carregar a Planilha Excel: {e}\")\n",
        "      return None"
      ],
      "metadata": {
        "id": "PIum8uueEdMp"
      },
      "execution_count": null,
      "outputs": []
    },
    {
      "cell_type": "code",
      "source": [
        "print('Bem-Vindo(a) ao Chatbot.')\n",
        "\n",
        "texto_selecao = '''Digite 1 caso queira analisar um Site.\n",
        "Digite 2 caso queira analisar um Arquivo PDF.\n",
        "Digite 3 caso queira analisar um Vídeo no Youtube.\n",
        "Digite 4 caso queira analisar uma Planilha Excel.\n",
        "Digite 5 caso queira conversar com o Chat.\n",
        "Digite x para finalizar o Chatbot.\n",
        "'''\n",
        "\n",
        "while True:\n",
        "  selecao = input(texto_selecao)\n",
        "  match selecao:\n",
        "      case '1':\n",
        "          documento = carrega_site()\n",
        "          iniciar_chat_com_atribuicoes(documento)\n",
        "      case '2':\n",
        "          documento = carrega_pdf()\n",
        "          iniciar_chat_com_atribuicoes(documento)\n",
        "      case '3':\n",
        "          documento = carrega_youtube()\n",
        "          iniciar_chat_com_atribuicoes(documento)\n",
        "      case '4':\n",
        "          documento = carrega_planilha()\n",
        "          iniciar_chat_com_atribuicoes(documento)\n",
        "      case '5':\n",
        "          iniciar_chat_simples()\n",
        "      case 'x':\n",
        "        print('Muito Obrigado por falar comigo!')\n",
        "        break\n",
        "      case _:\n",
        "          print(\"Opção inválida, tente novamente.\")\n",
        "          continue  # Volta para o início do loop se a opção for inválida\n",
        "\n",
        "  break  # Sai do loop se uma opção válida for selecionada"
      ],
      "metadata": {
        "id": "cJT2uaktx21S"
      },
      "execution_count": null,
      "outputs": []
    }
  ]
}